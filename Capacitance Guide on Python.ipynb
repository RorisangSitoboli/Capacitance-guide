{
 "cells": [
  {
   "cell_type": "markdown",
   "id": "blind-fiction",
   "metadata": {},
   "source": [
    "This is a rough guide on how to go about it. Please do not take this as how you should perform an actual experiment."
   ]
  },
  {
   "cell_type": "code",
   "execution_count": 1,
   "id": "fundamental-tucson",
   "metadata": {},
   "outputs": [],
   "source": [
    "import numpy as np\n",
    "import pandas as pd\n",
    "import matplotlib.pyplot as plt\n",
    "import seaborn as sns"
   ]
  },
  {
   "cell_type": "code",
   "execution_count": 2,
   "id": "exterior-effects",
   "metadata": {},
   "outputs": [],
   "source": [
    "d = np.array([0.002, 0.004, 0.006, 0.008, 0.010]) # These is my separation values in metres.\n",
    "c = np.array([0.89e-12, 0.47e-12, 0.30e-12, 0.22e-12, 0.18e-12]) # These are the capacitances\n",
    "e = 0.0002/d # This is the area divided by separation (A/d). Area in m^2, i.e 0.0002."
   ]
  },
  {
   "cell_type": "code",
   "execution_count": 3,
   "id": "powerful-lender",
   "metadata": {},
   "outputs": [
    {
     "data": {
      "image/png": "[encoded data removed]",
      "text/plain": [
       "<Figure size 432x288 with 1 Axes>"
      ]
     },
     "metadata": {
      "needs_background": "light"
     },
     "output_type": "display_data"
    }
   ],
   "source": [
    "# Rough plot.\n",
    "plt.plot(e, c) # Straight line plot of A/d vs capacitance)\n",
    "plt.xlabel('A/d (m)')\n",
    "plt.ylabel('Capacitance (F)')\n",
    "plt.title('Capacitance vs A/d')\n",
    "plt.grid()\n",
    "plt.show()"
   ]
  },
  {
   "cell_type": "code",
   "execution_count": 4,
   "id": "precise-delivery",
   "metadata": {},
   "outputs": [],
   "source": [
    "# Rough gradient calculation between the points.\n",
    "grad = c/e"
   ]
  },
  {
   "cell_type": "code",
   "execution_count": 5,
   "id": "selected-raise",
   "metadata": {},
   "outputs": [
    {
     "data": {
      "text/plain": [
       "array([8.9e-12, 9.4e-12, 9.0e-12, 8.8e-12, 9.0e-12])"
      ]
     },
     "execution_count": 5,
     "metadata": {},
     "output_type": "execute_result"
    }
   ],
   "source": [
    "# Gradient points.\n",
    "grad"
   ]
  },
  {
   "cell_type": "code",
   "execution_count": 6,
   "id": "metric-screening",
   "metadata": {},
   "outputs": [
    {
     "data": {
      "text/plain": [
       "LinregressResult(slope=8.916050686378036e-12, intercept=4.833685322069696e-15, rvalue=0.9992680592335613, pvalue=2.3768406953536746e-05, stderr=1.9706222300322174e-13)"
      ]
     },
     "execution_count": 6,
     "metadata": {},
     "output_type": "execute_result"
    }
   ],
   "source": [
    "# Use Python to calculate the gradient and intercept.\n",
    "from scipy.stats import linregress\n",
    "linregress(e, c)"
   ]
  },
  {
   "cell_type": "code",
   "execution_count": 7,
   "id": "timely-semester",
   "metadata": {},
   "outputs": [],
   "source": [
    "# Rough work of mine. Just guidelines on the values and what to plot."
   ]
  }
 ],
 "metadata": {
  "kernelspec": {
   "display_name": "Python 3",
   "language": "python",
   "name": "python3"
  },
  "language_info": {
   "codemirror_mode": {
    "name": "ipython",
    "version": 3
   },
   "file_extension": ".py",
   "mimetype": "text/x-python",
   "name": "python",
   "nbconvert_exporter": "python",
   "pygments_lexer": "ipython3",
   "version": "3.8.5"
  }
 },
 "nbformat": 4,
 "nbformat_minor": 5
}
